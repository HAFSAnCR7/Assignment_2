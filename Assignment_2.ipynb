{
 "cells": [
  {
   "cell_type": "code",
   "execution_count": 16,
   "id": "seasonal-clarity",
   "metadata": {},
   "outputs": [],
   "source": [
    "import math\n",
    "import time"
   ]
  },
  {
   "cell_type": "code",
   "execution_count": 19,
   "id": "indian-chambers",
   "metadata": {},
   "outputs": [],
   "source": [
    "array_S = [None] * 5\n",
    "for i in range(4, 6):\n",
    "    N = pow(10, i)\n",
    "    array_S[i-5] = N * math.sqrt(13.0)"
   ]
  },
  {
   "cell_type": "code",
   "execution_count": 20,
   "id": "dangerous-lounge",
   "metadata": {},
   "outputs": [
    {
     "name": "stdout",
     "output_type": "stream",
     "text": [
      "\n",
      " Naive Summations:\n",
      "N = 10 ^ 4\n",
      "sum = 36055.51275464152\n",
      "elapsed time: 0.002089977264404297\n",
      "absolute error: 1.622538547962904e-09\n",
      "relative error: 4.5001122546901057e-14 \n",
      "\n",
      "N = 10 ^ 5\n",
      "sum = 360555.12754659855\n",
      "elapsed time: 0.017804861068725586\n",
      "absolute error: 1.996522769331932e-07\n",
      "relative error: 5.537357859582804e-13 \n",
      "\n"
     ]
    }
   ],
   "source": [
    "print(\"\\n Naive Summations:\")\n",
    "def naiveSum(exponent):\n",
    "    N = pow(10, exponent)\n",
    "    s = 0\n",
    "    start_time = time.time()\n",
    "    for i in range(0, N):\n",
    "        s += math.sqrt(13.0)\n",
    "    end_time = time.time()\n",
    "    elapsed_time = end_time - start_time\n",
    "    index = exponent - 5\n",
    "    abs_err = abs(s - array_S[index])\n",
    "    rel_err = abs((s-array_S[index])/array_S[index])\n",
    "    print ('N = 10 ^ {}'. format(index + 5))\n",
    "    print('sum =', s)\n",
    "    print('elapsed time:', elapsed_time)\n",
    "    print('absolute error:', abs_err)\n",
    "    print('relative error:', rel_err, '\\n')\n",
    "    \n",
    "for i in range (4, 6):\n",
    "    naiveSum(i)"
   ]
  },
  {
   "cell_type": "code",
   "execution_count": null,
   "id": "behavioral-shadow",
   "metadata": {},
   "outputs": [],
   "source": []
  },
  {
   "cell_type": "markdown",
   "id": "found-hometown",
   "metadata": {},
   "source": [
    "# Explanation:\n",
    "*Essentially, I kept it simple and showed a simple calcuation for naive summation (making the range from 4-6 so basically finding the summations for N = 10^4 and N = 10^5). When looking at the data acquried for naive summation, can see that the method to find the sum is fast. In my code, first I used two imports: time and math and then I found the sum, elapsed time, absolute error, and relative error. I used math.sqrt(13.0) to represent the square root of 13.*"
   ]
  },
  {
   "cell_type": "code",
   "execution_count": null,
   "id": "imperial-malawi",
   "metadata": {},
   "outputs": [],
   "source": [
    "\n"
   ]
  }
 ],
 "metadata": {
  "kernelspec": {
   "display_name": "Python 3",
   "language": "python",
   "name": "python3"
  },
  "language_info": {
   "codemirror_mode": {
    "name": "ipython",
    "version": 3
   },
   "file_extension": ".py",
   "mimetype": "text/x-python",
   "name": "python",
   "nbconvert_exporter": "python",
   "pygments_lexer": "ipython3",
   "version": "3.9.0"
  }
 },
 "nbformat": 4,
 "nbformat_minor": 5
}

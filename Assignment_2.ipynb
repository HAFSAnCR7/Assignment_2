{
  "nbformat": 4,
  "nbformat_minor": 5,
  "metadata": {
    "kernelspec": {
      "display_name": "Python 3",
      "language": "python",
      "name": "python3"
    },
    "language_info": {
      "codemirror_mode": {
        "name": "ipython",
        "version": 3
      },
      "file_extension": ".py",
      "mimetype": "text/x-python",
      "name": "python",
      "nbconvert_exporter": "python",
      "pygments_lexer": "ipython3",
      "version": "3.9.0"
    },
    "colab": {
      "name": "Assignment_2.ipynb",
      "provenance": [],
      "include_colab_link": true
    }
  },
  "cells": [
    {
      "cell_type": "markdown",
      "metadata": {
        "id": "view-in-github",
        "colab_type": "text"
      },
      "source": [
        "<a href=\"https://colab.research.google.com/github/HAFSAnCR7/Assignment_2/blob/main/Assignment_2.ipynb\" target=\"_parent\"><img src=\"https://colab.research.google.com/assets/colab-badge.svg\" alt=\"Open In Colab\"/></a>"
      ]
    },
    {
      "cell_type": "code",
      "metadata": {
        "id": "seasonal-clarity"
      },
      "source": [
        "import math\n",
        "import time"
      ],
      "id": "seasonal-clarity",
      "execution_count": null,
      "outputs": []
    },
    {
      "cell_type": "code",
      "metadata": {
        "id": "indian-chambers"
      },
      "source": [
        "array_S = [None] * 5\n",
        "for i in range(4, 6):\n",
        "    N = pow(10, i)\n",
        "    array_S[i-5] = N * math.sqrt(13.0)"
      ],
      "id": "indian-chambers",
      "execution_count": null,
      "outputs": []
    },
    {
      "cell_type": "code",
      "metadata": {
        "id": "dangerous-lounge",
        "outputId": "51d38294-4f36-49cd-f28b-f2fd4fdf63bf"
      },
      "source": [
        "print(\"\\n Naive Summations:\")\n",
        "def naiveSum(exponent):\n",
        "    N = pow(10, exponent)\n",
        "    s = 0\n",
        "    start_time = time.time()\n",
        "    for i in range(0, N):\n",
        "        s += math.sqrt(13.0)\n",
        "    end_time = time.time()\n",
        "    elapsed_time = end_time - start_time\n",
        "    index = exponent - 5\n",
        "    abs_err = abs(s - array_S[index])\n",
        "    rel_err = abs((s-array_S[index])/array_S[index])\n",
        "    print ('N = 10 ^ {}'. format(index + 5))\n",
        "    print('sum =', s)\n",
        "    print('elapsed time:', elapsed_time)\n",
        "    print('absolute error:', abs_err)\n",
        "    print('relative error:', rel_err, '\\n')\n",
        "    \n",
        "for i in range (4, 6):\n",
        "    naiveSum(i)"
      ],
      "id": "dangerous-lounge",
      "execution_count": null,
      "outputs": [
        {
          "output_type": "stream",
          "text": [
            "\n",
            " Naive Summations:\n",
            "N = 10 ^ 4\n",
            "sum = 36055.51275464152\n",
            "elapsed time: 0.002089977264404297\n",
            "absolute error: 1.622538547962904e-09\n",
            "relative error: 4.5001122546901057e-14 \n",
            "\n",
            "N = 10 ^ 5\n",
            "sum = 360555.12754659855\n",
            "elapsed time: 0.017804861068725586\n",
            "absolute error: 1.996522769331932e-07\n",
            "relative error: 5.537357859582804e-13 \n",
            "\n"
          ],
          "name": "stdout"
        }
      ]
    },
    {
      "cell_type": "code",
      "metadata": {
        "id": "behavioral-shadow"
      },
      "source": [
        ""
      ],
      "id": "behavioral-shadow",
      "execution_count": null,
      "outputs": []
    },
    {
      "cell_type": "markdown",
      "metadata": {
        "id": "found-hometown"
      },
      "source": [
        "# Explanation:\n",
        "*Essentially, I kept it simple and showed a simple calcuation for naive summation (making the range from 4-6 so basically finding the summations for N = 10^4 and N = 10^5). When looking at the data acquried for naive summation, can see that the method to find the sum is fast. In my code, first I used two imports: time and math and then I found the sum, elapsed time, absolute error, and relative error. I used math.sqrt(13.0) to represent the square root of 13.*"
      ],
      "id": "found-hometown"
    },
    {
      "cell_type": "code",
      "metadata": {
        "id": "imperial-malawi"
      },
      "source": [
        "\n"
      ],
      "id": "imperial-malawi",
      "execution_count": null,
      "outputs": []
    }
  ]
}